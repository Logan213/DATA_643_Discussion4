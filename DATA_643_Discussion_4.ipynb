{
 "cells": [
  {
   "cell_type": "markdown",
   "metadata": {},
   "source": [
    "## DATA 643: Discussion 4"
   ]
  },
  {
   "cell_type": "markdown",
   "metadata": {},
   "source": [
    "#### PROBLEM STATEMENT  \n",
    "\n",
    "Read the article below and consider how to handle attacks on recommender systems. Can you think of a similar example where a collective effort to alter the workings of content recommendations have been successful? How would you design a system to prevent this kind of abuse?\n",
    "\n",
    "https://www.washingtonpost.com/news/morning-mix/wp/2017/04/19/wisdom-of-the-crowd-imdb-users-gang-up-on-the-promise-before-it-even-opens/?utm_term=.329a75ece088  "
   ]
  },
  {
   "cell_type": "markdown",
   "metadata": {},
   "source": [
    "#### RESPONSE  \n",
    "\n",
    "For as long as individuals could give their critical review of anything, there have been people who sought to manipulate the system for their own gain, or to the detriment of someone else. Payola schemes existed in the early days of radio in order to artificially inflate the popularity of a song by paying DJs to spin the record more frequently. A form of this still exists today in the form of \"sponsored\" playlists on streaming platforms (http://www.billboard.com/articles/business/6670475/playola-promotion-streaming-services).  \n",
    "\n",
    "In today's world of article comments and product reviews, a group of like-minded people can spam a system that is used to make recommendations, and have an effect on the outcome. This is very much related to the problem of \"Fake News\" that spreads so easily on social media. Fake reviews by individuals (or even purchased in bulk by an interested party) have been documented on the  iTunes App Store, Yelp, Amazon, eBay, and have probably occurred in any forum open to user reviews.  \n",
    "\n",
    "Unlike systems that rely on user reviews, Google's search algorithm utilizes a combination of user behavior, and existing content on pages to return search results, as well as the suggested results given to a user before their inquiry or search term is completely entered. These results vary by region, and the popularity of terms can affect what Google returns as a guess (or recommendation) of what the user is looking for. By flooding the search engine with a specific term (\"Your Business Name\" + \"is awesome\"), this will result in the term showing up when someone types in the name of the business (or even just the first few letters). This is why some businesses on radio advertisements tell listeners to enter a search term into Google, rather than giving them a specific URL. In keeping with manipulating the system online, a group of motivated users could also decide to flood Google with search terms constantly for a short period to change Instant Search Results (related: http://www.nytimes.com/2011/02/13/business/13search.html).  Google being Google and all, they have probably found a way to prevent manipulation of their search results.  \n",
    "\n",
    "One way to prevent a recommendation system from being manipulated is to detect a sudden influx of reviews (or search terms) in short period of time, and perhaps grade the relevance of the terms together. For instance, it does not make sense for an ice cream shop in a small town to suddenly have two million search terms (or yelp reviews) in a short period of time. In a system like Yelp or Amazon, any unverified reviews would not be counted, and separated from those that are real reviews that can be accounted for. The downside to any change in a recommendation system that may prevent manipulation by users, is that it may affect the accuracy of the system itself, and the benefit of the trade-off in preventing spamming of the system outright would have to be weighed.  "
   ]
  }
 ],
 "metadata": {
  "anaconda-cloud": {},
  "kernelspec": {
   "display_name": "Python [Root]",
   "language": "python",
   "name": "Python [Root]"
  },
  "language_info": {
   "codemirror_mode": {
    "name": "ipython",
    "version": 2
   },
   "file_extension": ".py",
   "mimetype": "text/x-python",
   "name": "python",
   "nbconvert_exporter": "python",
   "pygments_lexer": "ipython2",
   "version": "2.7.12"
  }
 },
 "nbformat": 4,
 "nbformat_minor": 0
}
